{
 "cells": [
  {
   "cell_type": "markdown",
   "id": "36fff3bf",
   "metadata": {},
   "source": [
    "## Exercici 1\n",
    "Descarrega el data set Airlines Delay: Airline on-time statistics and delay causes i carrega’l a un pandas Dataframe. Explora les dades que conté, i queda’t únicament amb les columnes que consideris rellevants."
   ]
  },
  {
   "cell_type": "code",
   "execution_count": 2,
   "id": "92ac543d",
   "metadata": {},
   "outputs": [
    {
     "ename": "FileNotFoundError",
     "evalue": "[Errno 2] No such file or directory: 'DelayedFlights.csv'",
     "output_type": "error",
     "traceback": [
      "\u001b[0;31m---------------------------------------------------------------------------\u001b[0m",
      "\u001b[0;31mFileNotFoundError\u001b[0m                         Traceback (most recent call last)",
      "\u001b[0;32m/var/folders/5j/t9djkx8d4pl6qlxm40r48rz40000gp/T/ipykernel_3717/4053790820.py\u001b[0m in \u001b[0;36m<module>\u001b[0;34m\u001b[0m\n\u001b[1;32m      1\u001b[0m \u001b[0;32mimport\u001b[0m \u001b[0mpandas\u001b[0m \u001b[0;32mas\u001b[0m \u001b[0mpd\u001b[0m\u001b[0;34m\u001b[0m\u001b[0;34m\u001b[0m\u001b[0m\n\u001b[1;32m      2\u001b[0m \u001b[0;34m\u001b[0m\u001b[0m\n\u001b[0;32m----> 3\u001b[0;31m \u001b[0mdf\u001b[0m \u001b[0;34m=\u001b[0m \u001b[0mpd\u001b[0m\u001b[0;34m.\u001b[0m\u001b[0mread_csv\u001b[0m\u001b[0;34m(\u001b[0m\u001b[0;34m\"DelayedFlights.csv\"\u001b[0m\u001b[0;34m,\u001b[0m \u001b[0mheader\u001b[0m\u001b[0;34m=\u001b[0m\u001b[0;32mNone\u001b[0m\u001b[0;34m)\u001b[0m\u001b[0;34m\u001b[0m\u001b[0;34m\u001b[0m\u001b[0m\n\u001b[0m\u001b[1;32m      4\u001b[0m \u001b[0mprint\u001b[0m\u001b[0;34m(\u001b[0m\u001b[0mdf\u001b[0m\u001b[0;34m)\u001b[0m\u001b[0;34m\u001b[0m\u001b[0;34m\u001b[0m\u001b[0m\n\u001b[1;32m      5\u001b[0m \u001b[0mprint\u001b[0m\u001b[0;34m(\u001b[0m\u001b[0mdf\u001b[0m\u001b[0;34m.\u001b[0m\u001b[0mcolumns\u001b[0m\u001b[0;34m)\u001b[0m\u001b[0;34m\u001b[0m\u001b[0;34m\u001b[0m\u001b[0m\n",
      "\u001b[0;32m~/opt/anaconda3/lib/python3.9/site-packages/pandas/util/_decorators.py\u001b[0m in \u001b[0;36mwrapper\u001b[0;34m(*args, **kwargs)\u001b[0m\n\u001b[1;32m    309\u001b[0m                     \u001b[0mstacklevel\u001b[0m\u001b[0;34m=\u001b[0m\u001b[0mstacklevel\u001b[0m\u001b[0;34m,\u001b[0m\u001b[0;34m\u001b[0m\u001b[0;34m\u001b[0m\u001b[0m\n\u001b[1;32m    310\u001b[0m                 )\n\u001b[0;32m--> 311\u001b[0;31m             \u001b[0;32mreturn\u001b[0m \u001b[0mfunc\u001b[0m\u001b[0;34m(\u001b[0m\u001b[0;34m*\u001b[0m\u001b[0margs\u001b[0m\u001b[0;34m,\u001b[0m \u001b[0;34m**\u001b[0m\u001b[0mkwargs\u001b[0m\u001b[0;34m)\u001b[0m\u001b[0;34m\u001b[0m\u001b[0;34m\u001b[0m\u001b[0m\n\u001b[0m\u001b[1;32m    312\u001b[0m \u001b[0;34m\u001b[0m\u001b[0m\n\u001b[1;32m    313\u001b[0m         \u001b[0;32mreturn\u001b[0m \u001b[0mwrapper\u001b[0m\u001b[0;34m\u001b[0m\u001b[0;34m\u001b[0m\u001b[0m\n",
      "\u001b[0;32m~/opt/anaconda3/lib/python3.9/site-packages/pandas/io/parsers/readers.py\u001b[0m in \u001b[0;36mread_csv\u001b[0;34m(filepath_or_buffer, sep, delimiter, header, names, index_col, usecols, squeeze, prefix, mangle_dupe_cols, dtype, engine, converters, true_values, false_values, skipinitialspace, skiprows, skipfooter, nrows, na_values, keep_default_na, na_filter, verbose, skip_blank_lines, parse_dates, infer_datetime_format, keep_date_col, date_parser, dayfirst, cache_dates, iterator, chunksize, compression, thousands, decimal, lineterminator, quotechar, quoting, doublequote, escapechar, comment, encoding, encoding_errors, dialect, error_bad_lines, warn_bad_lines, on_bad_lines, delim_whitespace, low_memory, memory_map, float_precision, storage_options)\u001b[0m\n\u001b[1;32m    584\u001b[0m     \u001b[0mkwds\u001b[0m\u001b[0;34m.\u001b[0m\u001b[0mupdate\u001b[0m\u001b[0;34m(\u001b[0m\u001b[0mkwds_defaults\u001b[0m\u001b[0;34m)\u001b[0m\u001b[0;34m\u001b[0m\u001b[0;34m\u001b[0m\u001b[0m\n\u001b[1;32m    585\u001b[0m \u001b[0;34m\u001b[0m\u001b[0m\n\u001b[0;32m--> 586\u001b[0;31m     \u001b[0;32mreturn\u001b[0m \u001b[0m_read\u001b[0m\u001b[0;34m(\u001b[0m\u001b[0mfilepath_or_buffer\u001b[0m\u001b[0;34m,\u001b[0m \u001b[0mkwds\u001b[0m\u001b[0;34m)\u001b[0m\u001b[0;34m\u001b[0m\u001b[0;34m\u001b[0m\u001b[0m\n\u001b[0m\u001b[1;32m    587\u001b[0m \u001b[0;34m\u001b[0m\u001b[0m\n\u001b[1;32m    588\u001b[0m \u001b[0;34m\u001b[0m\u001b[0m\n",
      "\u001b[0;32m~/opt/anaconda3/lib/python3.9/site-packages/pandas/io/parsers/readers.py\u001b[0m in \u001b[0;36m_read\u001b[0;34m(filepath_or_buffer, kwds)\u001b[0m\n\u001b[1;32m    480\u001b[0m \u001b[0;34m\u001b[0m\u001b[0m\n\u001b[1;32m    481\u001b[0m     \u001b[0;31m# Create the parser.\u001b[0m\u001b[0;34m\u001b[0m\u001b[0;34m\u001b[0m\u001b[0m\n\u001b[0;32m--> 482\u001b[0;31m     \u001b[0mparser\u001b[0m \u001b[0;34m=\u001b[0m \u001b[0mTextFileReader\u001b[0m\u001b[0;34m(\u001b[0m\u001b[0mfilepath_or_buffer\u001b[0m\u001b[0;34m,\u001b[0m \u001b[0;34m**\u001b[0m\u001b[0mkwds\u001b[0m\u001b[0;34m)\u001b[0m\u001b[0;34m\u001b[0m\u001b[0;34m\u001b[0m\u001b[0m\n\u001b[0m\u001b[1;32m    483\u001b[0m \u001b[0;34m\u001b[0m\u001b[0m\n\u001b[1;32m    484\u001b[0m     \u001b[0;32mif\u001b[0m \u001b[0mchunksize\u001b[0m \u001b[0;32mor\u001b[0m \u001b[0miterator\u001b[0m\u001b[0;34m:\u001b[0m\u001b[0;34m\u001b[0m\u001b[0;34m\u001b[0m\u001b[0m\n",
      "\u001b[0;32m~/opt/anaconda3/lib/python3.9/site-packages/pandas/io/parsers/readers.py\u001b[0m in \u001b[0;36m__init__\u001b[0;34m(self, f, engine, **kwds)\u001b[0m\n\u001b[1;32m    809\u001b[0m             \u001b[0mself\u001b[0m\u001b[0;34m.\u001b[0m\u001b[0moptions\u001b[0m\u001b[0;34m[\u001b[0m\u001b[0;34m\"has_index_names\"\u001b[0m\u001b[0;34m]\u001b[0m \u001b[0;34m=\u001b[0m \u001b[0mkwds\u001b[0m\u001b[0;34m[\u001b[0m\u001b[0;34m\"has_index_names\"\u001b[0m\u001b[0;34m]\u001b[0m\u001b[0;34m\u001b[0m\u001b[0;34m\u001b[0m\u001b[0m\n\u001b[1;32m    810\u001b[0m \u001b[0;34m\u001b[0m\u001b[0m\n\u001b[0;32m--> 811\u001b[0;31m         \u001b[0mself\u001b[0m\u001b[0;34m.\u001b[0m\u001b[0m_engine\u001b[0m \u001b[0;34m=\u001b[0m \u001b[0mself\u001b[0m\u001b[0;34m.\u001b[0m\u001b[0m_make_engine\u001b[0m\u001b[0;34m(\u001b[0m\u001b[0mself\u001b[0m\u001b[0;34m.\u001b[0m\u001b[0mengine\u001b[0m\u001b[0;34m)\u001b[0m\u001b[0;34m\u001b[0m\u001b[0;34m\u001b[0m\u001b[0m\n\u001b[0m\u001b[1;32m    812\u001b[0m \u001b[0;34m\u001b[0m\u001b[0m\n\u001b[1;32m    813\u001b[0m     \u001b[0;32mdef\u001b[0m \u001b[0mclose\u001b[0m\u001b[0;34m(\u001b[0m\u001b[0mself\u001b[0m\u001b[0;34m)\u001b[0m\u001b[0;34m:\u001b[0m\u001b[0;34m\u001b[0m\u001b[0;34m\u001b[0m\u001b[0m\n",
      "\u001b[0;32m~/opt/anaconda3/lib/python3.9/site-packages/pandas/io/parsers/readers.py\u001b[0m in \u001b[0;36m_make_engine\u001b[0;34m(self, engine)\u001b[0m\n\u001b[1;32m   1038\u001b[0m             )\n\u001b[1;32m   1039\u001b[0m         \u001b[0;31m# error: Too many arguments for \"ParserBase\"\u001b[0m\u001b[0;34m\u001b[0m\u001b[0;34m\u001b[0m\u001b[0m\n\u001b[0;32m-> 1040\u001b[0;31m         \u001b[0;32mreturn\u001b[0m \u001b[0mmapping\u001b[0m\u001b[0;34m[\u001b[0m\u001b[0mengine\u001b[0m\u001b[0;34m]\u001b[0m\u001b[0;34m(\u001b[0m\u001b[0mself\u001b[0m\u001b[0;34m.\u001b[0m\u001b[0mf\u001b[0m\u001b[0;34m,\u001b[0m \u001b[0;34m**\u001b[0m\u001b[0mself\u001b[0m\u001b[0;34m.\u001b[0m\u001b[0moptions\u001b[0m\u001b[0;34m)\u001b[0m  \u001b[0;31m# type: ignore[call-arg]\u001b[0m\u001b[0;34m\u001b[0m\u001b[0;34m\u001b[0m\u001b[0m\n\u001b[0m\u001b[1;32m   1041\u001b[0m \u001b[0;34m\u001b[0m\u001b[0m\n\u001b[1;32m   1042\u001b[0m     \u001b[0;32mdef\u001b[0m \u001b[0m_failover_to_python\u001b[0m\u001b[0;34m(\u001b[0m\u001b[0mself\u001b[0m\u001b[0;34m)\u001b[0m\u001b[0;34m:\u001b[0m\u001b[0;34m\u001b[0m\u001b[0;34m\u001b[0m\u001b[0m\n",
      "\u001b[0;32m~/opt/anaconda3/lib/python3.9/site-packages/pandas/io/parsers/c_parser_wrapper.py\u001b[0m in \u001b[0;36m__init__\u001b[0;34m(self, src, **kwds)\u001b[0m\n\u001b[1;32m     49\u001b[0m \u001b[0;34m\u001b[0m\u001b[0m\n\u001b[1;32m     50\u001b[0m         \u001b[0;31m# open handles\u001b[0m\u001b[0;34m\u001b[0m\u001b[0;34m\u001b[0m\u001b[0m\n\u001b[0;32m---> 51\u001b[0;31m         \u001b[0mself\u001b[0m\u001b[0;34m.\u001b[0m\u001b[0m_open_handles\u001b[0m\u001b[0;34m(\u001b[0m\u001b[0msrc\u001b[0m\u001b[0;34m,\u001b[0m \u001b[0mkwds\u001b[0m\u001b[0;34m)\u001b[0m\u001b[0;34m\u001b[0m\u001b[0;34m\u001b[0m\u001b[0m\n\u001b[0m\u001b[1;32m     52\u001b[0m         \u001b[0;32massert\u001b[0m \u001b[0mself\u001b[0m\u001b[0;34m.\u001b[0m\u001b[0mhandles\u001b[0m \u001b[0;32mis\u001b[0m \u001b[0;32mnot\u001b[0m \u001b[0;32mNone\u001b[0m\u001b[0;34m\u001b[0m\u001b[0;34m\u001b[0m\u001b[0m\n\u001b[1;32m     53\u001b[0m \u001b[0;34m\u001b[0m\u001b[0m\n",
      "\u001b[0;32m~/opt/anaconda3/lib/python3.9/site-packages/pandas/io/parsers/base_parser.py\u001b[0m in \u001b[0;36m_open_handles\u001b[0;34m(self, src, kwds)\u001b[0m\n\u001b[1;32m    220\u001b[0m         \u001b[0mLet\u001b[0m \u001b[0mthe\u001b[0m \u001b[0mreaders\u001b[0m \u001b[0mopen\u001b[0m \u001b[0mIOHandles\u001b[0m \u001b[0mafter\u001b[0m \u001b[0mthey\u001b[0m \u001b[0mare\u001b[0m \u001b[0mdone\u001b[0m \u001b[0;32mwith\u001b[0m \u001b[0mtheir\u001b[0m \u001b[0mpotential\u001b[0m \u001b[0mraises\u001b[0m\u001b[0;34m.\u001b[0m\u001b[0;34m\u001b[0m\u001b[0;34m\u001b[0m\u001b[0m\n\u001b[1;32m    221\u001b[0m         \"\"\"\n\u001b[0;32m--> 222\u001b[0;31m         self.handles = get_handle(\n\u001b[0m\u001b[1;32m    223\u001b[0m             \u001b[0msrc\u001b[0m\u001b[0;34m,\u001b[0m\u001b[0;34m\u001b[0m\u001b[0;34m\u001b[0m\u001b[0m\n\u001b[1;32m    224\u001b[0m             \u001b[0;34m\"r\"\u001b[0m\u001b[0;34m,\u001b[0m\u001b[0;34m\u001b[0m\u001b[0;34m\u001b[0m\u001b[0m\n",
      "\u001b[0;32m~/opt/anaconda3/lib/python3.9/site-packages/pandas/io/common.py\u001b[0m in \u001b[0;36mget_handle\u001b[0;34m(path_or_buf, mode, encoding, compression, memory_map, is_text, errors, storage_options)\u001b[0m\n\u001b[1;32m    700\u001b[0m         \u001b[0;32mif\u001b[0m \u001b[0mioargs\u001b[0m\u001b[0;34m.\u001b[0m\u001b[0mencoding\u001b[0m \u001b[0;32mand\u001b[0m \u001b[0;34m\"b\"\u001b[0m \u001b[0;32mnot\u001b[0m \u001b[0;32min\u001b[0m \u001b[0mioargs\u001b[0m\u001b[0;34m.\u001b[0m\u001b[0mmode\u001b[0m\u001b[0;34m:\u001b[0m\u001b[0;34m\u001b[0m\u001b[0;34m\u001b[0m\u001b[0m\n\u001b[1;32m    701\u001b[0m             \u001b[0;31m# Encoding\u001b[0m\u001b[0;34m\u001b[0m\u001b[0;34m\u001b[0m\u001b[0m\n\u001b[0;32m--> 702\u001b[0;31m             handle = open(\n\u001b[0m\u001b[1;32m    703\u001b[0m                 \u001b[0mhandle\u001b[0m\u001b[0;34m,\u001b[0m\u001b[0;34m\u001b[0m\u001b[0;34m\u001b[0m\u001b[0m\n\u001b[1;32m    704\u001b[0m                 \u001b[0mioargs\u001b[0m\u001b[0;34m.\u001b[0m\u001b[0mmode\u001b[0m\u001b[0;34m,\u001b[0m\u001b[0;34m\u001b[0m\u001b[0;34m\u001b[0m\u001b[0m\n",
      "\u001b[0;31mFileNotFoundError\u001b[0m: [Errno 2] No such file or directory: 'DelayedFlights.csv'"
     ]
    }
   ],
   "source": [
    "import pandas as pd\n",
    "\n",
    "df = pd.read_csv(\"DelayedFlights.csv\", header=None)\n",
    "print(df)\n",
    "print(df.columns)\n",
    "\n",
    "df.columns = df.iloc[0]\n",
    "df = df.iloc[1: , :]\n",
    "print(df.columns)\n",
    "\n",
    "df_seleccio = df[['Month', 'DayOfWeek', 'ArrDelay', 'DepDelay', 'CarrierDelay', 'WeatherDelay', 'NASDelay', 'SecurityDelay', 'LateAircraftDelay', 'Origin', 'Dest', 'Distance', 'AirTime','UniqueCarrier']]\n",
    "print(df_seleccio)\n",
    "\n",
    "# Mostreig\n",
    "df_seleccio = df_seleccio.sample(n=50)"
   ]
  },
  {
   "cell_type": "markdown",
   "id": "2cc39ea3",
   "metadata": {},
   "source": [
    "## Exercici 2\n",
    "Fes un informe complet del data set:\n",
    "\n",
    "- Resumeix estadísticament les columnes d’interès\n",
    "- Troba quantes dades faltants hi ha per columna\n",
    "- Crea columnes noves (velocitat mitjana del vol, si ha arribat tard o no...)\n",
    "- Taula de les aerolínies amb més endarreriments acumulats\n",
    "- Quins són els vols més llargs? I els més endarrerits?\n",
    "- Etc."
   ]
  },
  {
   "cell_type": "markdown",
   "id": "91b26322",
   "metadata": {},
   "source": [
    "**Dades faltants per columna**"
   ]
  },
  {
   "cell_type": "code",
   "execution_count": null,
   "id": "f29a1cbe",
   "metadata": {},
   "outputs": [],
   "source": [
    "import numpy as np\n",
    "\n",
    "for column in df_seleccio:\n",
    "    print('Columna:', column)\n",
    "    print('Dades faltants:', df_seleccio[column].isna().sum(), '\\n')\n",
    "    # substiteixo els Nan per zeros per a poder operar amb aquests valors més endavant\n",
    "    df_seleccio.loc[:, column] = df_seleccio[column].fillna(0)"
   ]
  },
  {
   "cell_type": "markdown",
   "id": "150d17bc",
   "metadata": {},
   "source": [
    "**Canviar data type per a determinades columnes i així poder fer càlculs**"
   ]
  },
  {
   "cell_type": "code",
   "execution_count": null,
   "id": "0fea2c63",
   "metadata": {},
   "outputs": [],
   "source": [
    "df_seleccio.loc[:,'ArrDelay'] = df_seleccio['ArrDelay'].astype(float).astype(int)\n",
    "df_seleccio.loc[:,'DepDelay'] = df_seleccio['DepDelay'].astype(float).astype(int)\n",
    "df_seleccio.loc[:,'CarrierDelay'] = df_seleccio['CarrierDelay'].astype(float).astype(int)\n",
    "df_seleccio.loc[:,'WeatherDelay'] = df_seleccio['WeatherDelay'].astype(float).astype(int)\n",
    "df_seleccio.loc[:,'NASDelay'] = df_seleccio['NASDelay'].astype(float).astype(int)\n",
    "df_seleccio.loc[:,'SecurityDelay'] = df_seleccio['SecurityDelay'].astype(float).astype(int)\n",
    "df_seleccio.loc[:,'LateAircraftDelay'] = df_seleccio['LateAircraftDelay'].astype(float).astype(int)\n",
    "df_seleccio.loc[:,'Distance'] = df_seleccio['Distance'].astype(float).round(2)\n",
    "df_seleccio.loc[:,'AirTime'] = df_seleccio['AirTime'].astype(float).astype(int)\n"
   ]
  },
  {
   "cell_type": "markdown",
   "id": "4bb0093e",
   "metadata": {},
   "source": [
    "**Resum stadístic**"
   ]
  },
  {
   "cell_type": "code",
   "execution_count": null,
   "id": "3562eea8",
   "metadata": {},
   "outputs": [],
   "source": [
    "for column in df_seleccio:\n",
    "    print(df_seleccio[column].describe(), \"\\n\")"
   ]
  },
  {
   "cell_type": "markdown",
   "id": "2850f8f4",
   "metadata": {},
   "source": [
    "**Crear columnas nuevas**"
   ]
  },
  {
   "cell_type": "code",
   "execution_count": null,
   "id": "ee979be2",
   "metadata": {},
   "outputs": [],
   "source": [
    "df_seleccio.loc[:,'TotalDelay'] = df_seleccio['ArrDelay'] + df_seleccio['DepDelay'] + df_seleccio['CarrierDelay'] + df_seleccio['WeatherDelay'] + df_seleccio['NASDelay'] + df_seleccio['SecurityDelay'] + df_seleccio['LateAircraftDelay']\n",
    "df_seleccio.loc[:,'AverageSpeed'] = (df_seleccio['Distance'] / df_seleccio['AirTime']).round(2)\n",
    "df_seleccio.loc[:,'Delayed'] = np.where(df_seleccio['TotalDelay'] > 0, True, False)"
   ]
  },
  {
   "cell_type": "markdown",
   "id": "868546aa",
   "metadata": {},
   "source": [
    "**Taula de les aerolínies amb més endarreriments acumulats**"
   ]
  },
  {
   "cell_type": "code",
   "execution_count": null,
   "id": "9b95b9f6",
   "metadata": {},
   "outputs": [],
   "source": [
    "aerolinies_amb_mes_endarreriments = df_seleccio.groupby(['UniqueCarrier']).size().reset_index(name='NumDelays')\n",
    "aerolinies_amb_mes_endarreriments = aerolinies_amb_mes_endarreriments.sort_values(by=['NumDelays'], ascending=False).head(3)\n",
    "print(aerolinies_amb_mes_endarreriments)"
   ]
  },
  {
   "cell_type": "markdown",
   "id": "e5a13ee7",
   "metadata": {},
   "source": [
    "**Vols més llargs**"
   ]
  },
  {
   "cell_type": "code",
   "execution_count": null,
   "id": "91dcda0a",
   "metadata": {},
   "outputs": [],
   "source": [
    "data = [df_seleccio[\"Origin\"], df_seleccio[\"Dest\"], df_seleccio[\"AirTime\"]]\n",
    "headers = [\"Origin\", \"Dest\", \"Duration\"]\n",
    "vols = pd.concat(data, axis=1, keys=headers)\n",
    "vols_mes_llargs = vols.sort_values(by=['Duration'], ascending=False).head(3)\n",
    "print(vols_mes_llargs)"
   ]
  },
  {
   "cell_type": "markdown",
   "id": "0c0e3cca",
   "metadata": {},
   "source": [
    "**Vols més endarrerits**"
   ]
  },
  {
   "cell_type": "code",
   "execution_count": null,
   "id": "50c59042",
   "metadata": {},
   "outputs": [],
   "source": [
    "data = [df_seleccio[\"Origin\"], df_seleccio[\"Dest\"], df_seleccio[\"TotalDelay\"]]\n",
    "headers = [\"Origin\", \"Dest\", \"Delay\"]\n",
    "vols = pd.concat(data, axis=1, keys=headers)\n",
    "vols_mes_endarrerits = vols.sort_values(by=['Delay'], ascending=False).head(3)\n",
    "print(vols_mes_endarrerits)"
   ]
  },
  {
   "cell_type": "markdown",
   "id": "39247efc",
   "metadata": {},
   "source": [
    "**Mesos amb més endarreriments**"
   ]
  },
  {
   "cell_type": "code",
   "execution_count": null,
   "id": "a370ef5d",
   "metadata": {},
   "outputs": [],
   "source": [
    "mesos_amb_mes_endarreriments = df_seleccio.groupby(['Month']).size().reset_index(name='NumDelays')\n",
    "mesos_amb_mes_endarreriments.loc[:,'Month'] = pd.to_datetime(mesos_amb_mes_endarreriments['Month'], format='%m').dt.month_name().str.slice(stop=3)\n",
    "mesos_amb_mes_endarreriments = mesos_amb_mes_endarreriments.sort_values(by=['NumDelays'], ascending=False).head(3)\n",
    "print(mesos_amb_mes_endarreriments)"
   ]
  },
  {
   "cell_type": "markdown",
   "id": "30d46ba4",
   "metadata": {},
   "source": [
    "**Causes d'endarreriment més freqüents**"
   ]
  },
  {
   "cell_type": "code",
   "execution_count": null,
   "id": "97623d7e",
   "metadata": {},
   "outputs": [],
   "source": [
    "data = df_seleccio['ArrDelay'], df_seleccio['DepDelay'], df_seleccio['CarrierDelay'], df_seleccio['WeatherDelay'], df_seleccio['NASDelay'], df_seleccio['SecurityDelay'], df_seleccio['LateAircraftDelay']\n",
    "headers = [\"ArrDelay\", \"DepDelay\", \"CarrierDelay\", 'WeatherDelay', 'NASDelay', 'SecurityDelay', 'LateAircraftDelay']\n",
    "causas = pd.concat(data, axis=1, keys=headers)\n",
    "causas_mes_frequents = causas[causas > 0].count().sort_values(ascending=False).head(3)\n",
    "print(causas_mes_frequents)"
   ]
  },
  {
   "cell_type": "markdown",
   "id": "c0845850",
   "metadata": {},
   "source": [
    "## Exercici 3\n",
    "Exporta el data set net i amb les noves columnes a Excel."
   ]
  },
  {
   "cell_type": "code",
   "execution_count": null,
   "id": "4c762df6",
   "metadata": {
    "scrolled": true
   },
   "outputs": [],
   "source": [
    "print(df_seleccio)\n",
    "\n",
    "df_seleccio.to_excel('DelayedFlights_modificat.xlsx', sheet_name='Sheet1')"
   ]
  },
  {
   "cell_type": "markdown",
   "id": "6d716c00",
   "metadata": {},
   "source": [
    "![x](variable_categorica.png)\n",
    "![x](variable_numerica.png)\n",
    "![x](variables_num_cat.png)\n",
    "![x](variables_num.png)\n",
    "![x](tres_variables.png)\n",
    "![x](quatre_variables.png)"
   ]
  },
  {
   "cell_type": "code",
   "execution_count": null,
   "id": "a9ccfea6",
   "metadata": {},
   "outputs": [],
   "source": []
  }
 ],
 "metadata": {
  "kernelspec": {
   "display_name": "Python 3 (ipykernel)",
   "language": "python",
   "name": "python3"
  },
  "language_info": {
   "codemirror_mode": {
    "name": "ipython",
    "version": 3
   },
   "file_extension": ".py",
   "mimetype": "text/x-python",
   "name": "python",
   "nbconvert_exporter": "python",
   "pygments_lexer": "ipython3",
   "version": "3.9.7"
  }
 },
 "nbformat": 4,
 "nbformat_minor": 5
}
