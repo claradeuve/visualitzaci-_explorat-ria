{
 "cells": [
  {
   "cell_type": "markdown",
   "id": "36fff3bf",
   "metadata": {},
   "source": [
    "## Exercici 1\n",
    "Descarrega el data set Airlines Delay: Airline on-time statistics and delay causes i carrega’l a un pandas Dataframe. Explora les dades que conté, i queda’t únicament amb les columnes que consideris rellevants."
   ]
  },
  {
   "cell_type": "code",
   "execution_count": 2,
   "id": "92ac543d",
   "metadata": {},
   "outputs": [
    {
     "name": "stderr",
     "output_type": "stream",
     "text": [
      "/Users/claradv/opt/anaconda3/lib/python3.9/site-packages/IPython/core/interactiveshell.py:3444: DtypeWarning: Columns (1,2,3,4,5,6,7,8,10,12,13,14,15,16,19,20,21,22,24,25,26,27,28,29) have mixed types.Specify dtype option on import or set low_memory=False.\n",
      "  exec(code_obj, self.user_global_ns, self.user_ns)\n"
     ]
    },
    {
     "name": "stdout",
     "output_type": "stream",
     "text": [
      "               0     1      2           3          4        5           6   \\\n",
      "0             NaN  Year  Month  DayofMonth  DayOfWeek  DepTime  CRSDepTime   \n",
      "1             0.0  2008      1           3          4   2003.0        1955   \n",
      "2             1.0  2008      1           3          4    754.0         735   \n",
      "3             2.0  2008      1           3          4    628.0         620   \n",
      "4             4.0  2008      1           3          4   1829.0        1755   \n",
      "...           ...   ...    ...         ...        ...      ...         ...   \n",
      "799995  2655507.0  2008      5           9          5   1320.0        1310   \n",
      "799996  2655508.0  2008      5           9          5   1508.0        1435   \n",
      "799997  2655509.0  2008      5           9          5   1758.0        1745   \n",
      "799998  2655514.0  2008      5           9          5    711.0         640   \n",
      "799999  2655515.0  2008      5           9          5   1631.0        1610   \n",
      "\n",
      "             7           8              9   ...      20       21         22  \\\n",
      "0       ArrTime  CRSArrTime  UniqueCarrier  ...  TaxiIn  TaxiOut  Cancelled   \n",
      "1        2211.0        2225             WN  ...     4.0      8.0          0   \n",
      "2        1002.0        1000             WN  ...     5.0     10.0          0   \n",
      "3         804.0         750             WN  ...     3.0     17.0          0   \n",
      "4        1959.0        1925             WN  ...     3.0     10.0          0   \n",
      "...         ...         ...            ...  ...     ...      ...        ...   \n",
      "799995   1604.0        1455             US  ...     8.0     89.0          0   \n",
      "799996   1703.0        1620             US  ...     4.0     29.0          0   \n",
      "799997   2009.0        1927             US  ...     6.0     39.0          0   \n",
      "799998    850.0         818             US  ...    11.0     14.0          0   \n",
      "799999   1832.0        1753             US  ...     8.0     20.0          0   \n",
      "\n",
      "                      23        24            25            26        27  \\\n",
      "0       CancellationCode  Diverted  CarrierDelay  WeatherDelay  NASDelay   \n",
      "1                      N         0           NaN           NaN       NaN   \n",
      "2                      N         0           NaN           NaN       NaN   \n",
      "3                      N         0           NaN           NaN       NaN   \n",
      "4                      N         0           2.0           0.0       0.0   \n",
      "...                  ...       ...           ...           ...       ...   \n",
      "799995                 N         0           0.0           0.0      69.0   \n",
      "799996                 N         0           0.0           0.0      43.0   \n",
      "799997                 N         0           0.0           0.0      42.0   \n",
      "799998                 N         0          31.0           0.0       1.0   \n",
      "799999                 N         0           0.0           0.0      29.0   \n",
      "\n",
      "                   28                 29  \n",
      "0       SecurityDelay  LateAircraftDelay  \n",
      "1                 NaN                NaN  \n",
      "2                 NaN                NaN  \n",
      "3                 NaN                NaN  \n",
      "4                 0.0               32.0  \n",
      "...               ...                ...  \n",
      "799995            0.0                0.0  \n",
      "799996            0.0                0.0  \n",
      "799997            0.0                0.0  \n",
      "799998            0.0                0.0  \n",
      "799999            0.0               10.0  \n",
      "\n",
      "[800000 rows x 30 columns]\n",
      "Int64Index([ 0,  1,  2,  3,  4,  5,  6,  7,  8,  9, 10, 11, 12, 13, 14, 15, 16,\n",
      "            17, 18, 19, 20, 21, 22, 23, 24, 25, 26, 27, 28, 29],\n",
      "           dtype='int64')\n",
      "Index([                nan,              'Year',             'Month',\n",
      "              'DayofMonth',         'DayOfWeek',           'DepTime',\n",
      "              'CRSDepTime',           'ArrTime',        'CRSArrTime',\n",
      "           'UniqueCarrier',         'FlightNum',           'TailNum',\n",
      "       'ActualElapsedTime',    'CRSElapsedTime',           'AirTime',\n",
      "                'ArrDelay',          'DepDelay',            'Origin',\n",
      "                    'Dest',          'Distance',            'TaxiIn',\n",
      "                 'TaxiOut',         'Cancelled',  'CancellationCode',\n",
      "                'Diverted',      'CarrierDelay',      'WeatherDelay',\n",
      "                'NASDelay',     'SecurityDelay', 'LateAircraftDelay'],\n",
      "      dtype='object', name=0)\n",
      "0      Month DayOfWeek ArrDelay DepDelay CarrierDelay WeatherDelay NASDelay  \\\n",
      "1          1         4    -14.0      8.0          NaN          NaN      NaN   \n",
      "2          1         4      2.0     19.0          NaN          NaN      NaN   \n",
      "3          1         4     14.0      8.0          NaN          NaN      NaN   \n",
      "4          1         4     34.0     34.0          2.0          0.0      0.0   \n",
      "5          1         4     11.0     25.0          NaN          NaN      NaN   \n",
      "...      ...       ...      ...      ...          ...          ...      ...   \n",
      "799995     5         5     69.0     10.0          0.0          0.0     69.0   \n",
      "799996     5         5     43.0     33.0          0.0          0.0     43.0   \n",
      "799997     5         5     42.0     13.0          0.0          0.0     42.0   \n",
      "799998     5         5     32.0     31.0         31.0          0.0      1.0   \n",
      "799999     5         5     39.0     21.0          0.0          0.0     29.0   \n",
      "\n",
      "0      SecurityDelay LateAircraftDelay Origin Dest Distance AirTime  \\\n",
      "1                NaN               NaN    IAD  TPA      810   116.0   \n",
      "2                NaN               NaN    IAD  TPA      810   113.0   \n",
      "3                NaN               NaN    IND  BWI      515    76.0   \n",
      "4                0.0              32.0    IND  BWI      515    77.0   \n",
      "5                NaN               NaN    IND  JAX      688    87.0   \n",
      "...              ...               ...    ...  ...      ...     ...   \n",
      "799995           0.0               0.0    CLT  PHL      448    67.0   \n",
      "799996           0.0               0.0    CLT  PHL      448    82.0   \n",
      "799997           0.0               0.0    CLT  PHL      448    86.0   \n",
      "799998           0.0               0.0    CLT  PHL      448    74.0   \n",
      "799999           0.0              10.0    CLT  PHL      448    93.0   \n",
      "\n",
      "0      UniqueCarrier  \n",
      "1                 WN  \n",
      "2                 WN  \n",
      "3                 WN  \n",
      "4                 WN  \n",
      "5                 WN  \n",
      "...              ...  \n",
      "799995            US  \n",
      "799996            US  \n",
      "799997            US  \n",
      "799998            US  \n",
      "799999            US  \n",
      "\n",
      "[799999 rows x 14 columns]\n"
     ]
    }
   ],
   "source": [
    "import pandas as pd\n",
    "\n",
    "df = pd.read_csv(\"DelayedFlights.csv\", header=None, nrows=800000)\n",
    "print(df)\n",
    "print(df.columns)\n",
    "\n",
    "df.columns = df.iloc[0]\n",
    "df = df.iloc[1: , :]\n",
    "print(df.columns)\n",
    "\n",
    "df_seleccio = df[['Month', 'DayOfWeek', 'ArrDelay', 'DepDelay', 'CarrierDelay', 'WeatherDelay', 'NASDelay', 'SecurityDelay', 'LateAircraftDelay', 'Origin', 'Dest', 'Distance', 'AirTime','UniqueCarrier']]\n",
    "print(df_seleccio)"
   ]
  },
  {
   "cell_type": "markdown",
   "id": "2cc39ea3",
   "metadata": {},
   "source": [
    "## Exercici 2\n",
    "Fes un informe complet del data set:\n",
    "\n",
    "- Resumeix estadísticament les columnes d’interès\n",
    "- Troba quantes dades faltants hi ha per columna\n",
    "- Crea columnes noves (velocitat mitjana del vol, si ha arribat tard o no...)\n",
    "- Taula de les aerolínies amb més endarreriments acumulats\n",
    "- Quins són els vols més llargs? I els més endarrerits?\n",
    "- Etc."
   ]
  },
  {
   "cell_type": "code",
   "execution_count": 3,
   "id": "f29a1cbe",
   "metadata": {},
   "outputs": [
    {
     "name": "stdout",
     "output_type": "stream",
     "text": [
      "Columna: Month\n",
      "Dades faltants: 0 \n",
      "\n",
      "Columna: DayOfWeek\n",
      "Dades faltants: 0 \n",
      "\n",
      "Columna: ArrDelay\n",
      "Dades faltants: 2874 \n",
      "\n",
      "Columna: DepDelay\n"
     ]
    },
    {
     "name": "stderr",
     "output_type": "stream",
     "text": [
      "/Users/claradv/opt/anaconda3/lib/python3.9/site-packages/pandas/core/indexing.py:1951: SettingWithCopyWarning: \n",
      "A value is trying to be set on a copy of a slice from a DataFrame.\n",
      "Try using .loc[row_indexer,col_indexer] = value instead\n",
      "\n",
      "See the caveats in the documentation: https://pandas.pydata.org/pandas-docs/stable/user_guide/indexing.html#returning-a-view-versus-a-copy\n",
      "  self.obj[selected_item_labels] = value\n"
     ]
    },
    {
     "name": "stdout",
     "output_type": "stream",
     "text": [
      "Dades faltants: 0 \n",
      "\n",
      "Columna: CarrierDelay\n",
      "Dades faltants: 279284 \n",
      "\n",
      "Columna: WeatherDelay\n",
      "Dades faltants: 279284 \n",
      "\n",
      "Columna: NASDelay\n",
      "Dades faltants: 279284 \n",
      "\n",
      "Columna: SecurityDelay\n",
      "Dades faltants: 279284 \n",
      "\n",
      "Columna: LateAircraftDelay\n",
      "Dades faltants: 279284 \n",
      "\n",
      "Columna: Origin\n",
      "Dades faltants: 0 \n",
      "\n",
      "Columna: Dest\n",
      "Dades faltants: 0 \n",
      "\n",
      "Columna: Distance\n",
      "Dades faltants: 0 \n",
      "\n",
      "Columna: AirTime\n",
      "Dades faltants: 2874 \n",
      "\n",
      "Columna: UniqueCarrier\n",
      "Dades faltants: 0 \n",
      "\n"
     ]
    }
   ],
   "source": [
    "import numpy as np\n",
    "\n",
    "# Dades faltants per columna\n",
    "for column in df_seleccio:\n",
    "    print('Columna:', column)\n",
    "    print('Dades faltants:', df_seleccio[column].isna().sum(), '\\n')\n",
    "    # substiteixo els Nan per zeros per a poder operar amb aquests valors més endavant\n",
    "    df_seleccio.loc[:, column] = df_seleccio[column].fillna(0)"
   ]
  },
  {
   "cell_type": "markdown",
   "id": "150d17bc",
   "metadata": {},
   "source": [
    "**Canviar data type per a determinades columnes i així poder fer càlculs**"
   ]
  },
  {
   "cell_type": "code",
   "execution_count": 4,
   "id": "0fea2c63",
   "metadata": {},
   "outputs": [
    {
     "name": "stderr",
     "output_type": "stream",
     "text": [
      "/Users/claradv/opt/anaconda3/lib/python3.9/site-packages/pandas/core/indexing.py:1773: SettingWithCopyWarning: \n",
      "A value is trying to be set on a copy of a slice from a DataFrame.\n",
      "Try using .loc[row_indexer,col_indexer] = value instead\n",
      "\n",
      "See the caveats in the documentation: https://pandas.pydata.org/pandas-docs/stable/user_guide/indexing.html#returning-a-view-versus-a-copy\n",
      "  self._setitem_single_column(ilocs[0], value, pi)\n"
     ]
    }
   ],
   "source": [
    "df_seleccio.loc[:,'ArrDelay'] = df_seleccio['ArrDelay'].astype(float).astype(int)\n",
    "df_seleccio.loc[:,'DepDelay'] = df_seleccio['DepDelay'].astype(float).astype(int)\n",
    "df_seleccio.loc[:,'CarrierDelay'] = df_seleccio['CarrierDelay'].astype(float).astype(int)\n",
    "df_seleccio.loc[:,'WeatherDelay'] = df_seleccio['WeatherDelay'].astype(float).astype(int)\n",
    "df_seleccio.loc[:,'NASDelay'] = df_seleccio['NASDelay'].astype(float).astype(int)\n",
    "df_seleccio.loc[:,'SecurityDelay'] = df_seleccio['SecurityDelay'].astype(float).astype(int)\n",
    "df_seleccio.loc[:,'LateAircraftDelay'] = df_seleccio['LateAircraftDelay'].astype(float).astype(int)\n",
    "df_seleccio.loc[:,'Distance'] = df_seleccio['Distance'].astype(float).round(2)\n",
    "df_seleccio.loc[:,'AirTime'] = df_seleccio['AirTime'].astype(float).astype(int)\n"
   ]
  },
  {
   "cell_type": "markdown",
   "id": "4bb0093e",
   "metadata": {},
   "source": [
    "**Resum stadístic**"
   ]
  },
  {
   "cell_type": "code",
   "execution_count": 5,
   "id": "3562eea8",
   "metadata": {},
   "outputs": [
    {
     "name": "stdout",
     "output_type": "stream",
     "text": [
      "count     799999\n",
      "unique         6\n",
      "top            3\n",
      "freq      200842\n",
      "Name: Month, dtype: int64 \n",
      "\n",
      "count     799999\n",
      "unique        14\n",
      "top            5\n",
      "freq      133876\n",
      "Name: DayOfWeek, dtype: int64 \n",
      "\n",
      "count    799999.000000\n",
      "mean         41.544892\n",
      "std          55.275361\n",
      "min         -69.000000\n",
      "25%           9.000000\n",
      "50%          25.000000\n",
      "75%          55.000000\n",
      "max        2461.000000\n",
      "Name: ArrDelay, dtype: float64 \n",
      "\n",
      "count    799999.000000\n",
      "mean         42.531544\n",
      "std          52.031852\n",
      "min           6.000000\n",
      "25%          12.000000\n",
      "50%          24.000000\n",
      "75%          52.000000\n",
      "max        2467.000000\n",
      "Name: DepDelay, dtype: float64 \n",
      "\n",
      "count    799999.000000\n",
      "mean         12.291878\n",
      "std          35.704992\n",
      "min           0.000000\n",
      "25%           0.000000\n",
      "50%           0.000000\n",
      "75%          10.000000\n",
      "max        2436.000000\n",
      "Name: CarrierDelay, dtype: float64 \n",
      "\n",
      "count    799999.00000\n",
      "mean          2.26649\n",
      "std          16.79298\n",
      "min           0.00000\n",
      "25%           0.00000\n",
      "50%           0.00000\n",
      "75%           0.00000\n",
      "max        1148.00000\n",
      "Name: WeatherDelay, dtype: float64 \n",
      "\n",
      "count    799999.000000\n",
      "mean          9.093439\n",
      "std          26.985062\n",
      "min           0.000000\n",
      "25%           0.000000\n",
      "50%           0.000000\n",
      "75%           6.000000\n",
      "max        1357.000000\n",
      "Name: NASDelay, dtype: float64 \n",
      "\n",
      "count    799999.000000\n",
      "mean          0.062508\n",
      "std           1.549637\n",
      "min           0.000000\n",
      "25%           0.000000\n",
      "50%           0.000000\n",
      "75%           0.000000\n",
      "max         392.000000\n",
      "Name: SecurityDelay, dtype: float64 \n",
      "\n",
      "count    799999.000000\n",
      "mean         16.566208\n",
      "std          35.372080\n",
      "min           0.000000\n",
      "25%           0.000000\n",
      "50%           0.000000\n",
      "75%          19.000000\n",
      "max        1254.000000\n",
      "Name: LateAircraftDelay, dtype: float64 \n",
      "\n",
      "count     799999\n",
      "unique       291\n",
      "top          ORD\n",
      "freq       54847\n",
      "Name: Origin, dtype: object \n",
      "\n",
      "count     799999\n",
      "unique       293\n",
      "top          ORD\n",
      "freq       46889\n",
      "Name: Dest, dtype: object \n",
      "\n",
      "count    799999.000000\n",
      "mean        747.254064\n",
      "std         555.450658\n",
      "min          11.000000\n",
      "25%         337.000000\n",
      "50%         600.000000\n",
      "75%         987.000000\n",
      "max        4962.000000\n",
      "Name: Distance, dtype: float64 \n",
      "\n",
      "count    799999.000000\n",
      "mean        106.376732\n",
      "std          67.192782\n",
      "min           0.000000\n",
      "25%          58.000000\n",
      "50%          89.000000\n",
      "75%         135.000000\n",
      "max         664.000000\n",
      "Name: AirTime, dtype: float64 \n",
      "\n",
      "count     799999\n",
      "unique        20\n",
      "top           WN\n",
      "freq      173598\n",
      "Name: UniqueCarrier, dtype: object \n",
      "\n"
     ]
    }
   ],
   "source": [
    "for column in df_seleccio:\n",
    "    print(df_seleccio[column].describe(), \"\\n\")"
   ]
  },
  {
   "cell_type": "markdown",
   "id": "2850f8f4",
   "metadata": {},
   "source": [
    "**Crear columnas nuevas**"
   ]
  },
  {
   "cell_type": "code",
   "execution_count": 6,
   "id": "ee979be2",
   "metadata": {},
   "outputs": [
    {
     "name": "stderr",
     "output_type": "stream",
     "text": [
      "/Users/claradv/opt/anaconda3/lib/python3.9/site-packages/pandas/core/indexing.py:1667: SettingWithCopyWarning: \n",
      "A value is trying to be set on a copy of a slice from a DataFrame.\n",
      "Try using .loc[row_indexer,col_indexer] = value instead\n",
      "\n",
      "See the caveats in the documentation: https://pandas.pydata.org/pandas-docs/stable/user_guide/indexing.html#returning-a-view-versus-a-copy\n",
      "  self.obj[key] = value\n"
     ]
    }
   ],
   "source": [
    "df_seleccio.loc[:,'TotalDelay'] = df_seleccio['ArrDelay'] + df_seleccio['DepDelay'] + df_seleccio['CarrierDelay'] + df_seleccio['WeatherDelay'] + df_seleccio['NASDelay'] + df_seleccio['SecurityDelay'] + df_seleccio['LateAircraftDelay']\n",
    "df_seleccio.loc[:,'AverageSpeed'] = (df_seleccio['Distance'] / df_seleccio['AirTime']).round(2)\n",
    "df_seleccio.loc[:,'Delayed'] = np.where(df_seleccio['TotalDelay'] > 0, True, False)"
   ]
  },
  {
   "cell_type": "markdown",
   "id": "868546aa",
   "metadata": {},
   "source": [
    "**Taula de les aerolínies amb més endarreriments acumulats**"
   ]
  },
  {
   "cell_type": "code",
   "execution_count": 7,
   "id": "9b95b9f6",
   "metadata": {},
   "outputs": [
    {
     "name": "stdout",
     "output_type": "stream",
     "text": [
      "   UniqueCarrier  NumDelays\n",
      "17            WN     173598\n",
      "1             AA      72289\n",
      "15            UA      65298\n"
     ]
    }
   ],
   "source": [
    "aerolinies_amb_mes_endarreriments = df_seleccio.groupby(['UniqueCarrier']).size().reset_index(name='NumDelays')\n",
    "aerolinies_amb_mes_endarreriments = aerolinies_amb_mes_endarreriments.sort_values(by=['NumDelays'], ascending=False).head(3)\n",
    "print(aerolinies_amb_mes_endarreriments)"
   ]
  },
  {
   "cell_type": "markdown",
   "id": "e5a13ee7",
   "metadata": {},
   "source": [
    "**Vols més llargs**"
   ]
  },
  {
   "cell_type": "code",
   "execution_count": 8,
   "id": "91dcda0a",
   "metadata": {},
   "outputs": [
    {
     "name": "stdout",
     "output_type": "stream",
     "text": [
      "       Origin Dest  Duration\n",
      "362530    EWR  HNL       664\n",
      "556382    EWR  HNL       655\n",
      "556380    EWR  HNL       654\n"
     ]
    }
   ],
   "source": [
    "data = [df_seleccio[\"Origin\"], df_seleccio[\"Dest\"], df_seleccio[\"AirTime\"]]\n",
    "headers = [\"Origin\", \"Dest\", \"Duration\"]\n",
    "vols = pd.concat(data, axis=1, keys=headers)\n",
    "vols_mes_llargs = vols.sort_values(by=['Duration'], ascending=False).head(3)\n",
    "print(vols_mes_llargs)"
   ]
  },
  {
   "cell_type": "markdown",
   "id": "0c0e3cca",
   "metadata": {},
   "source": [
    "**Vols més endarrerits**"
   ]
  },
  {
   "cell_type": "code",
   "execution_count": 9,
   "id": "50c59042",
   "metadata": {},
   "outputs": [
    {
     "name": "stdout",
     "output_type": "stream",
     "text": [
      "       Origin Dest  Delay\n",
      "322517    HNL  MSP   7379\n",
      "686015    CLT  MSP   7373\n",
      "685438    MOT  MSP   4629\n"
     ]
    }
   ],
   "source": [
    "data = [df_seleccio[\"Origin\"], df_seleccio[\"Dest\"], df_seleccio[\"TotalDelay\"]]\n",
    "headers = [\"Origin\", \"Dest\", \"Delay\"]\n",
    "vols = pd.concat(data, axis=1, keys=headers)\n",
    "vols_mes_endarrerits = vols.sort_values(by=['Delay'], ascending=False).head(3)\n",
    "print(vols_mes_endarrerits)"
   ]
  },
  {
   "cell_type": "markdown",
   "id": "39247efc",
   "metadata": {},
   "source": [
    "**Mesos amb més endarreriments**"
   ]
  },
  {
   "cell_type": "code",
   "execution_count": 10,
   "id": "a370ef5d",
   "metadata": {},
   "outputs": [
    {
     "name": "stdout",
     "output_type": "stream",
     "text": [
      "  Month  NumDelays\n",
      "2   Mar     200842\n",
      "1   Feb     189534\n",
      "3   Apr     155264\n"
     ]
    }
   ],
   "source": [
    "mesos_amb_mes_endarreriments = df_seleccio.groupby(['Month']).size().reset_index(name='NumDelays')\n",
    "mesos_amb_mes_endarreriments.loc[:,'Month'] = pd.to_datetime(mesos_amb_mes_endarreriments['Month'], format='%m').dt.month_name().str.slice(stop=3)\n",
    "mesos_amb_mes_endarreriments = mesos_amb_mes_endarreriments.sort_values(by=['NumDelays'], ascending=False).head(3)\n",
    "print(mesos_amb_mes_endarreriments)"
   ]
  },
  {
   "cell_type": "markdown",
   "id": "30d46ba4",
   "metadata": {},
   "source": [
    "**Causes d'endarreriment més freqüents**"
   ]
  },
  {
   "cell_type": "code",
   "execution_count": 11,
   "id": "97623d7e",
   "metadata": {},
   "outputs": [
    {
     "name": "stdout",
     "output_type": "stream",
     "text": [
      "DepDelay             799999\n",
      "ArrDelay             715372\n",
      "LateAircraftDelay    295769\n",
      "dtype: int64\n"
     ]
    }
   ],
   "source": [
    "data = df_seleccio['ArrDelay'], df_seleccio['DepDelay'], df_seleccio['CarrierDelay'], df_seleccio['WeatherDelay'], df_seleccio['NASDelay'], df_seleccio['SecurityDelay'], df_seleccio['LateAircraftDelay']\n",
    "headers = [\"ArrDelay\", \"DepDelay\", \"CarrierDelay\", 'WeatherDelay', 'NASDelay', 'SecurityDelay', 'LateAircraftDelay']\n",
    "causas = pd.concat(data, axis=1, keys=headers)\n",
    "causas_mes_frequents = causas[causas > 0].count().sort_values(ascending=False).head(3)\n",
    "print(causas_mes_frequents)"
   ]
  },
  {
   "cell_type": "markdown",
   "id": "c0845850",
   "metadata": {},
   "source": [
    "## Exercici 3\n",
    "Exporta el data set net i amb les noves columnes a Excel."
   ]
  },
  {
   "cell_type": "code",
   "execution_count": 12,
   "id": "4c762df6",
   "metadata": {
    "scrolled": true
   },
   "outputs": [
    {
     "name": "stdout",
     "output_type": "stream",
     "text": [
      "0      Month DayOfWeek  ArrDelay  DepDelay  CarrierDelay  WeatherDelay  \\\n",
      "1          1         4       -14         8             0             0   \n",
      "2          1         4         2        19             0             0   \n",
      "3          1         4        14         8             0             0   \n",
      "4          1         4        34        34             2             0   \n",
      "5          1         4        11        25             0             0   \n",
      "...      ...       ...       ...       ...           ...           ...   \n",
      "799995     5         5        69        10             0             0   \n",
      "799996     5         5        43        33             0             0   \n",
      "799997     5         5        42        13             0             0   \n",
      "799998     5         5        32        31            31             0   \n",
      "799999     5         5        39        21             0             0   \n",
      "\n",
      "0       NASDelay  SecurityDelay  LateAircraftDelay Origin Dest  Distance  \\\n",
      "1              0              0                  0    IAD  TPA     810.0   \n",
      "2              0              0                  0    IAD  TPA     810.0   \n",
      "3              0              0                  0    IND  BWI     515.0   \n",
      "4              0              0                 32    IND  BWI     515.0   \n",
      "5              0              0                  0    IND  JAX     688.0   \n",
      "...          ...            ...                ...    ...  ...       ...   \n",
      "799995        69              0                  0    CLT  PHL     448.0   \n",
      "799996        43              0                  0    CLT  PHL     448.0   \n",
      "799997        42              0                  0    CLT  PHL     448.0   \n",
      "799998         1              0                  0    CLT  PHL     448.0   \n",
      "799999        29              0                 10    CLT  PHL     448.0   \n",
      "\n",
      "0       AirTime UniqueCarrier  TotalDelay  AverageSpeed  Delayed  \n",
      "1           116            WN          -6          6.98    False  \n",
      "2           113            WN          21          7.17     True  \n",
      "3            76            WN          22          6.78     True  \n",
      "4            77            WN         102          6.69     True  \n",
      "5            87            WN          36          7.91     True  \n",
      "...         ...           ...         ...           ...      ...  \n",
      "799995       67            US         148          6.69     True  \n",
      "799996       82            US         119          5.46     True  \n",
      "799997       86            US          97          5.21     True  \n",
      "799998       74            US          95          6.05     True  \n",
      "799999       93            US          99          4.82     True  \n",
      "\n",
      "[799999 rows x 17 columns]\n"
     ]
    }
   ],
   "source": [
    "print(df_seleccio)\n",
    "\n",
    "df_seleccio.to_excel('DelayedFlights_modificat.xlsx', sheet_name='Sheet1')"
   ]
  },
  {
   "cell_type": "markdown",
   "id": "6d716c00",
   "metadata": {},
   "source": [
    "![x](variable_categorica.png)\n",
    "![x](variable_numerica.png)\n",
    "![x](variables_num_cat.png)\n",
    "![x](variables_num.png)\n",
    "![x](tres_variables.png)\n",
    "![x](quatre_variables.png)"
   ]
  },
  {
   "cell_type": "code",
   "execution_count": null,
   "id": "a9ccfea6",
   "metadata": {},
   "outputs": [],
   "source": []
  }
 ],
 "metadata": {
  "kernelspec": {
   "display_name": "Python 3 (ipykernel)",
   "language": "python",
   "name": "python3"
  },
  "language_info": {
   "codemirror_mode": {
    "name": "ipython",
    "version": 3
   },
   "file_extension": ".py",
   "mimetype": "text/x-python",
   "name": "python",
   "nbconvert_exporter": "python",
   "pygments_lexer": "ipython3",
   "version": "3.9.7"
  }
 },
 "nbformat": 4,
 "nbformat_minor": 5
}
