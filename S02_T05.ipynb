{
 "cells": [
  {
   "cell_type": "markdown",
   "id": "36fff3bf",
   "metadata": {},
   "source": [
    "## Exercici 1\n",
    "Descarrega el data set Airlines Delay: Airline on-time statistics and delay causes i carrega’l a un pandas Dataframe. Explora les dades que conté, i queda’t únicament amb les columnes que consideris rellevants."
   ]
  },
  {
   "cell_type": "code",
   "execution_count": 1,
   "id": "92ac543d",
   "metadata": {},
   "outputs": [
    {
     "name": "stderr",
     "output_type": "stream",
     "text": [
      "/Users/claradv/opt/anaconda3/lib/python3.9/site-packages/IPython/core/interactiveshell.py:3444: DtypeWarning: Columns (1,2,3,4,5,6,7,8,10,12,13,14,15,16,19,20,21,22,24,25,26,27,28,29) have mixed types.Specify dtype option on import or set low_memory=False.\n",
      "  exec(code_obj, self.user_global_ns, self.user_ns)\n"
     ]
    },
    {
     "name": "stdout",
     "output_type": "stream",
     "text": [
      "                0     1      2           3          4        5           6   \\\n",
      "0              NaN  Year  Month  DayofMonth  DayOfWeek  DepTime  CRSDepTime   \n",
      "1              0.0  2008      1           3          4   2003.0        1955   \n",
      "2              1.0  2008      1           3          4    754.0         735   \n",
      "3              2.0  2008      1           3          4    628.0         620   \n",
      "4              4.0  2008      1           3          4   1829.0        1755   \n",
      "...            ...   ...    ...         ...        ...      ...         ...   \n",
      "1936754  7009710.0  2008     12          13          6   1250.0        1220   \n",
      "1936755  7009717.0  2008     12          13          6    657.0         600   \n",
      "1936756  7009718.0  2008     12          13          6   1007.0         847   \n",
      "1936757  7009726.0  2008     12          13          6   1251.0        1240   \n",
      "1936758  7009727.0  2008     12          13          6   1110.0        1103   \n",
      "\n",
      "              7           8              9   ...      20       21         22  \\\n",
      "0        ArrTime  CRSArrTime  UniqueCarrier  ...  TaxiIn  TaxiOut  Cancelled   \n",
      "1         2211.0        2225             WN  ...     4.0      8.0          0   \n",
      "2         1002.0        1000             WN  ...     5.0     10.0          0   \n",
      "3          804.0         750             WN  ...     3.0     17.0          0   \n",
      "4         1959.0        1925             WN  ...     3.0     10.0          0   \n",
      "...          ...         ...            ...  ...     ...      ...        ...   \n",
      "1936754   1617.0        1552             DL  ...     9.0     18.0          0   \n",
      "1936755    904.0         749             DL  ...    15.0     34.0          0   \n",
      "1936756   1149.0        1010             DL  ...     8.0     32.0          0   \n",
      "1936757   1446.0        1437             DL  ...    13.0     13.0          0   \n",
      "1936758   1413.0        1418             DL  ...     8.0     11.0          0   \n",
      "\n",
      "                       23        24            25            26        27  \\\n",
      "0        CancellationCode  Diverted  CarrierDelay  WeatherDelay  NASDelay   \n",
      "1                       N         0           NaN           NaN       NaN   \n",
      "2                       N         0           NaN           NaN       NaN   \n",
      "3                       N         0           NaN           NaN       NaN   \n",
      "4                       N         0           2.0           0.0       0.0   \n",
      "...                   ...       ...           ...           ...       ...   \n",
      "1936754                 N         0           3.0           0.0       0.0   \n",
      "1936755                 N         0           0.0          57.0      18.0   \n",
      "1936756                 N         0           1.0           0.0      19.0   \n",
      "1936757                 N         0           NaN           NaN       NaN   \n",
      "1936758                 N         0           NaN           NaN       NaN   \n",
      "\n",
      "                    28                 29  \n",
      "0        SecurityDelay  LateAircraftDelay  \n",
      "1                  NaN                NaN  \n",
      "2                  NaN                NaN  \n",
      "3                  NaN                NaN  \n",
      "4                  0.0               32.0  \n",
      "...                ...                ...  \n",
      "1936754            0.0               22.0  \n",
      "1936755            0.0                0.0  \n",
      "1936756            0.0               79.0  \n",
      "1936757            NaN                NaN  \n",
      "1936758            NaN                NaN  \n",
      "\n",
      "[1936759 rows x 30 columns]\n",
      "Int64Index([ 0,  1,  2,  3,  4,  5,  6,  7,  8,  9, 10, 11, 12, 13, 14, 15, 16,\n",
      "            17, 18, 19, 20, 21, 22, 23, 24, 25, 26, 27, 28, 29],\n",
      "           dtype='int64')\n",
      "Index([                nan,              'Year',             'Month',\n",
      "              'DayofMonth',         'DayOfWeek',           'DepTime',\n",
      "              'CRSDepTime',           'ArrTime',        'CRSArrTime',\n",
      "           'UniqueCarrier',         'FlightNum',           'TailNum',\n",
      "       'ActualElapsedTime',    'CRSElapsedTime',           'AirTime',\n",
      "                'ArrDelay',          'DepDelay',            'Origin',\n",
      "                    'Dest',          'Distance',            'TaxiIn',\n",
      "                 'TaxiOut',         'Cancelled',  'CancellationCode',\n",
      "                'Diverted',      'CarrierDelay',      'WeatherDelay',\n",
      "                'NASDelay',     'SecurityDelay', 'LateAircraftDelay'],\n",
      "      dtype='object', name=0)\n",
      "0       Month DayOfWeek ArrDelay DepDelay CarrierDelay WeatherDelay NASDelay  \\\n",
      "1           1         4    -14.0      8.0          NaN          NaN      NaN   \n",
      "2           1         4      2.0     19.0          NaN          NaN      NaN   \n",
      "3           1         4     14.0      8.0          NaN          NaN      NaN   \n",
      "4           1         4     34.0     34.0          2.0          0.0      0.0   \n",
      "5           1         4     11.0     25.0          NaN          NaN      NaN   \n",
      "...       ...       ...      ...      ...          ...          ...      ...   \n",
      "1936754    12         6     25.0     30.0          3.0          0.0      0.0   \n",
      "1936755    12         6     75.0     57.0          0.0         57.0     18.0   \n",
      "1936756    12         6     99.0     80.0          1.0          0.0     19.0   \n",
      "1936757    12         6      9.0     11.0          NaN          NaN      NaN   \n",
      "1936758    12         6     -5.0      7.0          NaN          NaN      NaN   \n",
      "\n",
      "0       SecurityDelay LateAircraftDelay Origin Dest Distance AirTime  \\\n",
      "1                 NaN               NaN    IAD  TPA      810   116.0   \n",
      "2                 NaN               NaN    IAD  TPA      810   113.0   \n",
      "3                 NaN               NaN    IND  BWI      515    76.0   \n",
      "4                 0.0              32.0    IND  BWI      515    77.0   \n",
      "5                 NaN               NaN    IND  JAX      688    87.0   \n",
      "...               ...               ...    ...  ...      ...     ...   \n",
      "1936754           0.0              22.0    MSP  ATL      906   120.0   \n",
      "1936755           0.0               0.0    RIC  ATL      481    78.0   \n",
      "1936756           0.0              79.0    ATL  IAH      689   122.0   \n",
      "1936757           NaN               NaN    IAD  ATL      533    89.0   \n",
      "1936758           NaN               NaN    SAT  ATL      874   104.0   \n",
      "\n",
      "0       UniqueCarrier  \n",
      "1                  WN  \n",
      "2                  WN  \n",
      "3                  WN  \n",
      "4                  WN  \n",
      "5                  WN  \n",
      "...               ...  \n",
      "1936754            DL  \n",
      "1936755            DL  \n",
      "1936756            DL  \n",
      "1936757            DL  \n",
      "1936758            DL  \n",
      "\n",
      "[1936758 rows x 14 columns]\n"
     ]
    }
   ],
   "source": [
    "import pandas as pd\n",
    "\n",
    "df = pd.read_csv(\"DelayedFlights.csv\", header=None)\n",
    "print(df)\n",
    "print(df.columns)\n",
    "\n",
    "df.columns = df.iloc[0]\n",
    "df = df.iloc[1: , :]\n",
    "print(df.columns)\n",
    "\n",
    "df_seleccio = df[['Month', 'DayOfWeek', 'ArrDelay', 'DepDelay', 'CarrierDelay', 'WeatherDelay', 'NASDelay', 'SecurityDelay', 'LateAircraftDelay', 'Origin', 'Dest', 'Distance', 'AirTime','UniqueCarrier']]\n",
    "print(df_seleccio)\n",
    "\n",
    "# Mostreig\n",
    "df_seleccio = df_seleccio.sample(n=50)"
   ]
  },
  {
   "cell_type": "markdown",
   "id": "2cc39ea3",
   "metadata": {},
   "source": [
    "## Exercici 2\n",
    "Fes un informe complet del data set:\n",
    "\n",
    "- Resumeix estadísticament les columnes d’interès\n",
    "- Troba quantes dades faltants hi ha per columna\n",
    "- Crea columnes noves (velocitat mitjana del vol, si ha arribat tard o no...)\n",
    "- Taula de les aerolínies amb més endarreriments acumulats\n",
    "- Quins són els vols més llargs? I els més endarrerits?\n",
    "- Etc."
   ]
  },
  {
   "cell_type": "markdown",
   "id": "91b26322",
   "metadata": {},
   "source": [
    "**Dades faltants per columna**"
   ]
  },
  {
   "cell_type": "code",
   "execution_count": null,
   "id": "f29a1cbe",
   "metadata": {},
   "outputs": [],
   "source": [
    "import numpy as np\n",
    "\n",
    "for column in df_seleccio:\n",
    "    print('Columna:', column)\n",
    "    print('Dades faltants:', df_seleccio[column].isna().sum(), '\\n')\n",
    "    # substiteixo els Nan per zeros per a poder operar amb aquests valors més endavant\n",
    "    df_seleccio.loc[:, column] = df_seleccio[column].fillna(0)"
   ]
  },
  {
   "cell_type": "markdown",
   "id": "150d17bc",
   "metadata": {},
   "source": [
    "**Canviar data type per a determinades columnes i així poder fer càlculs**"
   ]
  },
  {
   "cell_type": "code",
   "execution_count": null,
   "id": "0fea2c63",
   "metadata": {},
   "outputs": [],
   "source": [
    "df_seleccio.loc[:,'ArrDelay'] = df_seleccio['ArrDelay'].astype(float).astype(int)\n",
    "df_seleccio.loc[:,'DepDelay'] = df_seleccio['DepDelay'].astype(float).astype(int)\n",
    "df_seleccio.loc[:,'CarrierDelay'] = df_seleccio['CarrierDelay'].astype(float).astype(int)\n",
    "df_seleccio.loc[:,'WeatherDelay'] = df_seleccio['WeatherDelay'].astype(float).astype(int)\n",
    "df_seleccio.loc[:,'NASDelay'] = df_seleccio['NASDelay'].astype(float).astype(int)\n",
    "df_seleccio.loc[:,'SecurityDelay'] = df_seleccio['SecurityDelay'].astype(float).astype(int)\n",
    "df_seleccio.loc[:,'LateAircraftDelay'] = df_seleccio['LateAircraftDelay'].astype(float).astype(int)\n",
    "df_seleccio.loc[:,'Distance'] = df_seleccio['Distance'].astype(float).round(2)\n",
    "df_seleccio.loc[:,'AirTime'] = df_seleccio['AirTime'].astype(float).astype(int)\n"
   ]
  },
  {
   "cell_type": "markdown",
   "id": "4bb0093e",
   "metadata": {},
   "source": [
    "**Resum stadístic**"
   ]
  },
  {
   "cell_type": "code",
   "execution_count": null,
   "id": "3562eea8",
   "metadata": {},
   "outputs": [],
   "source": [
    "for column in df_seleccio:\n",
    "    print(df_seleccio[column].describe(), \"\\n\")"
   ]
  },
  {
   "cell_type": "markdown",
   "id": "2850f8f4",
   "metadata": {},
   "source": [
    "**Crear columnas nuevas**"
   ]
  },
  {
   "cell_type": "code",
   "execution_count": null,
   "id": "ee979be2",
   "metadata": {},
   "outputs": [],
   "source": [
    "df_seleccio.loc[:,'TotalDelay'] = df_seleccio['ArrDelay'] + df_seleccio['DepDelay'] + df_seleccio['CarrierDelay'] + df_seleccio['WeatherDelay'] + df_seleccio['NASDelay'] + df_seleccio['SecurityDelay'] + df_seleccio['LateAircraftDelay']\n",
    "df_seleccio.loc[:,'AverageSpeed'] = (df_seleccio['Distance'] / df_seleccio['AirTime']).round(2)\n",
    "df_seleccio.loc[:,'Delayed'] = np.where(df_seleccio['TotalDelay'] > 0, True, False)"
   ]
  },
  {
   "cell_type": "markdown",
   "id": "868546aa",
   "metadata": {},
   "source": [
    "**Taula de les aerolínies amb més endarreriments acumulats**"
   ]
  },
  {
   "cell_type": "code",
   "execution_count": null,
   "id": "9b95b9f6",
   "metadata": {},
   "outputs": [],
   "source": [
    "aerolinies_amb_mes_endarreriments = df_seleccio.groupby(['UniqueCarrier']).size().reset_index(name='NumDelays')\n",
    "aerolinies_amb_mes_endarreriments = aerolinies_amb_mes_endarreriments.sort_values(by=['NumDelays'], ascending=False).head(3)\n",
    "print(aerolinies_amb_mes_endarreriments)"
   ]
  },
  {
   "cell_type": "markdown",
   "id": "e5a13ee7",
   "metadata": {},
   "source": [
    "**Vols més llargs**"
   ]
  },
  {
   "cell_type": "code",
   "execution_count": null,
   "id": "91dcda0a",
   "metadata": {},
   "outputs": [],
   "source": [
    "data = [df_seleccio[\"Origin\"], df_seleccio[\"Dest\"], df_seleccio[\"AirTime\"]]\n",
    "headers = [\"Origin\", \"Dest\", \"Duration\"]\n",
    "vols = pd.concat(data, axis=1, keys=headers)\n",
    "vols_mes_llargs = vols.sort_values(by=['Duration'], ascending=False).head(3)\n",
    "print(vols_mes_llargs)"
   ]
  },
  {
   "cell_type": "markdown",
   "id": "0c0e3cca",
   "metadata": {},
   "source": [
    "**Vols més endarrerits**"
   ]
  },
  {
   "cell_type": "code",
   "execution_count": null,
   "id": "50c59042",
   "metadata": {},
   "outputs": [],
   "source": [
    "data = [df_seleccio[\"Origin\"], df_seleccio[\"Dest\"], df_seleccio[\"TotalDelay\"]]\n",
    "headers = [\"Origin\", \"Dest\", \"Delay\"]\n",
    "vols = pd.concat(data, axis=1, keys=headers)\n",
    "vols_mes_endarrerits = vols.sort_values(by=['Delay'], ascending=False).head(3)\n",
    "print(vols_mes_endarrerits)"
   ]
  },
  {
   "cell_type": "markdown",
   "id": "39247efc",
   "metadata": {},
   "source": [
    "**Mesos amb més endarreriments**"
   ]
  },
  {
   "cell_type": "code",
   "execution_count": null,
   "id": "a370ef5d",
   "metadata": {},
   "outputs": [],
   "source": [
    "mesos_amb_mes_endarreriments = df_seleccio.groupby(['Month']).size().reset_index(name='NumDelays')\n",
    "mesos_amb_mes_endarreriments.loc[:,'Month'] = pd.to_datetime(mesos_amb_mes_endarreriments['Month'], format='%m').dt.month_name().str.slice(stop=3)\n",
    "mesos_amb_mes_endarreriments = mesos_amb_mes_endarreriments.sort_values(by=['NumDelays'], ascending=False).head(3)\n",
    "print(mesos_amb_mes_endarreriments)"
   ]
  },
  {
   "cell_type": "markdown",
   "id": "30d46ba4",
   "metadata": {},
   "source": [
    "**Causes d'endarreriment més freqüents**"
   ]
  },
  {
   "cell_type": "code",
   "execution_count": null,
   "id": "97623d7e",
   "metadata": {},
   "outputs": [],
   "source": [
    "data = df_seleccio['ArrDelay'], df_seleccio['DepDelay'], df_seleccio['CarrierDelay'], df_seleccio['WeatherDelay'], df_seleccio['NASDelay'], df_seleccio['SecurityDelay'], df_seleccio['LateAircraftDelay']\n",
    "headers = [\"ArrDelay\", \"DepDelay\", \"CarrierDelay\", 'WeatherDelay', 'NASDelay', 'SecurityDelay', 'LateAircraftDelay']\n",
    "causas = pd.concat(data, axis=1, keys=headers)\n",
    "causas_mes_frequents = causas[causas > 0].count().sort_values(ascending=False).head(3)\n",
    "print(causas_mes_frequents)"
   ]
  },
  {
   "cell_type": "markdown",
   "id": "c0845850",
   "metadata": {},
   "source": [
    "## Exercici 3\n",
    "Exporta el data set net i amb les noves columnes a Excel."
   ]
  },
  {
   "cell_type": "code",
   "execution_count": null,
   "id": "4c762df6",
   "metadata": {
    "scrolled": true
   },
   "outputs": [],
   "source": [
    "print(df_seleccio)\n",
    "\n",
    "df_seleccio.to_excel('DelayedFlights_modificat.xlsx', sheet_name='Sheet1')"
   ]
  },
  {
   "cell_type": "markdown",
   "id": "6d716c00",
   "metadata": {},
   "source": [
    "![x](variable_categorica.png)\n",
    "![x](variable_numerica.png)\n",
    "![x](variables_num_cat.png)\n",
    "![x](variables_num.png)\n",
    "![x](tres_variables.png)\n",
    "![x](quatre_variables_a.png)\n",
    "![x](quatre_variables_b.png)"
   ]
  },
  {
   "cell_type": "code",
   "execution_count": null,
   "id": "a9ccfea6",
   "metadata": {},
   "outputs": [],
   "source": []
  }
 ],
 "metadata": {
  "kernelspec": {
   "display_name": "Python 3 (ipykernel)",
   "language": "python",
   "name": "python3"
  },
  "language_info": {
   "codemirror_mode": {
    "name": "ipython",
    "version": 3
   },
   "file_extension": ".py",
   "mimetype": "text/x-python",
   "name": "python",
   "nbconvert_exporter": "python",
   "pygments_lexer": "ipython3",
   "version": "3.9.7"
  }
 },
 "nbformat": 4,
 "nbformat_minor": 5
}
